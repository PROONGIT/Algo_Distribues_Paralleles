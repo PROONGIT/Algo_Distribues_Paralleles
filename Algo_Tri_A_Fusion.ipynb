{
  "nbformat": 4,
  "nbformat_minor": 0,
  "metadata": {
    "colab": {
      "provenance": [],
      "authorship_tag": "ABX9TyMzw58t2dnI+r0czYJNTtdD",
      "include_colab_link": true
    },
    "kernelspec": {
      "name": "python3",
      "display_name": "Python 3"
    },
    "language_info": {
      "name": "python"
    }
  },
  "cells": [
    {
      "cell_type": "markdown",
      "metadata": {
        "id": "view-in-github",
        "colab_type": "text"
      },
      "source": [
        "<a href=\"https://colab.research.google.com/github/PROONGIT/Algo_Distribues_Paralleles/blob/main/Algo_Tri_A_Fusion.ipynb\" target=\"_parent\"><img src=\"https://colab.research.google.com/assets/colab-badge.svg\" alt=\"Open In Colab\"/></a>"
      ]
    },
    {
      "cell_type": "code",
      "execution_count": 3,
      "metadata": {
        "colab": {
          "base_uri": "https://localhost:8080/"
        },
        "id": "YytC0XiEDmmp",
        "outputId": "3c19568f-a48e-466a-b438-0e2cecad0637"
      },
      "outputs": [
        {
          "output_type": "stream",
          "name": "stdout",
          "text": [
            "Liste avant tri: [38, 27, 43, 3, 9, 82, 10]\n",
            "1ere moitié de liste : [38, 27, 43]\n",
            "2eme moitié de liste : [3, 9, 82, 10]\n",
            "1ere moitié de liste : [38]\n",
            "2eme moitié de liste : [27, 43]\n",
            "1ere moitié de liste : [27]\n",
            "2eme moitié de liste : [43]\n",
            "1ere moitié de liste : [3, 9]\n",
            "2eme moitié de liste : [82, 10]\n",
            "1ere moitié de liste : [3]\n",
            "2eme moitié de liste : [9]\n",
            "1ere moitié de liste : [82]\n",
            "2eme moitié de liste : [10]\n",
            "Liste après tri: [3, 9, 10, 27, 38, 43, 82]\n"
          ]
        }
      ],
      "source": [
        "def merge_sort(arr):\n",
        "    # Cas de base : si la liste contient 0 ou 1 élément, elle est déjà triée\n",
        "    if len(arr) <= 1:\n",
        "        return arr\n",
        "\n",
        "    # Diviser la liste en deux moitiés\n",
        "    mid = len(arr) // 2\n",
        "    left_half = arr[:mid]\n",
        "    right_half = arr[mid:]\n",
        "    print(\"1ere moitié de liste :\", left_half)\n",
        "    print(\"2eme moitié de liste :\", right_half)\n",
        "\n",
        "    # Appliquer récursivement merge_sort sur chaque moitié\n",
        "    left_half = merge_sort(left_half)\n",
        "    right_half = merge_sort(right_half)\n",
        "\n",
        "    # Fusionner les deux moitiés triées\n",
        "    return merge(left_half, right_half)\n",
        "\n",
        "def merge(left, right):\n",
        "    sorted_arr = []\n",
        "    i = j = 0\n",
        "\n",
        "    # Comparer les éléments des deux sous-listes et les ajouter dans la liste triée\n",
        "    while i < len(left) and j < len(right):\n",
        "        if left[i] < right[j]:\n",
        "            sorted_arr.append(left[i])\n",
        "            i += 1\n",
        "        else:\n",
        "            sorted_arr.append(right[j])\n",
        "            j += 1\n",
        "\n",
        "    # Ajouter les éléments restants de left ou right (s'il y en a)\n",
        "    sorted_arr.extend(left[i:])\n",
        "    sorted_arr.extend(right[j:])\n",
        "\n",
        "    return sorted_arr\n",
        "\n",
        "# Exemple d'utilisation\n",
        "arr = [38, 27, 43, 3, 9, 82, 10]\n",
        "print(\"Liste avant tri:\", arr)\n",
        "sorted_arr = merge_sort(arr)\n",
        "print(\"Liste après tri:\", sorted_arr)\n"
      ]
    },
    {
      "cell_type": "code",
      "source": [
        "import concurrent.futures\n",
        "\n",
        "def merge_sort(arr):\n",
        "    # Cas de base : si la liste contient 0 ou 1 élément, elle est déjà triée\n",
        "    if len(arr) <= 1:\n",
        "        return arr\n",
        "\n",
        "    # Diviser la liste en deux moitiés\n",
        "    mid = len(arr) // 2\n",
        "    left_half = arr[:mid]\n",
        "    right_half = arr[mid:]\n",
        "    #print(\"1ere moitié de liste :\", left_half)\n",
        "    #print(\"2eme moitié de liste :\", right_half)\n",
        "\n",
        "    # Utiliser un executor pour exécuter merge_sort sur les deux moitiés en parallèle\n",
        "    with concurrent.futures.ThreadPoolExecutor() as executor:\n",
        "        # Envoyer les tâches de tri des sous-listes à l'exécuteur\n",
        "        left_future = executor.submit(merge_sort, left_half)\n",
        "        right_future = executor.submit(merge_sort, right_half)\n",
        "\n",
        "        # Attendre que les deux sous-listes soient triées\n",
        "        left_sorted = left_future.result()\n",
        "        right_sorted = right_future.result()\n",
        "\n",
        "    # Fusionner les deux sous-listes triées\n",
        "    return merge(left_sorted, right_sorted)\n",
        "\n",
        "def merge(left, right):\n",
        "    sorted_arr = []\n",
        "    i = j = 0\n",
        "\n",
        "    # Comparer les éléments des deux sous-listes et les ajouter dans la liste triée\n",
        "    while i < len(left) and j < len(right):\n",
        "        if left[i] < right[j]:\n",
        "            sorted_arr.append(left[i])\n",
        "            i += 1\n",
        "        else:\n",
        "            sorted_arr.append(right[j])\n",
        "            j += 1\n",
        "\n",
        "    # Ajouter les éléments restants de left ou right (s'il y en a)\n",
        "    sorted_arr.extend(left[i:])\n",
        "    sorted_arr.extend(right[j:])\n",
        "\n",
        "    return sorted_arr\n",
        "\n",
        "# Exemple d'utilisation\n",
        "arr = [38, 27, 43, 3, 9, 82, 10]\n",
        "print(\"Liste avant tri:\", arr)\n",
        "sorted_arr = merge_sort(arr)\n",
        "print(\"Liste après tri:\", sorted_arr)\n"
      ],
      "metadata": {
        "colab": {
          "base_uri": "https://localhost:8080/"
        },
        "id": "6BwNjyeIH1rI",
        "outputId": "4578e6f1-e088-4372-f6b8-c55c4c55ff7c"
      },
      "execution_count": 6,
      "outputs": [
        {
          "output_type": "stream",
          "name": "stdout",
          "text": [
            "Liste avant tri: [38, 27, 43, 3, 9, 82, 10]\n",
            "Liste après tri: [3, 9, 10, 27, 38, 43, 82]\n"
          ]
        }
      ]
    }
  ]
}