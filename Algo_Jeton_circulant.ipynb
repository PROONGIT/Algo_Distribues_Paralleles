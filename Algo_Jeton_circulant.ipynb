{
  "nbformat": 4,
  "nbformat_minor": 0,
  "metadata": {
    "colab": {
      "provenance": [],
      "authorship_tag": "ABX9TyNrepA3y2JL/xgpzCpfV33Z",
      "include_colab_link": true
    },
    "kernelspec": {
      "name": "python3",
      "display_name": "Python 3"
    },
    "language_info": {
      "name": "python"
    }
  },
  "cells": [
    {
      "cell_type": "markdown",
      "metadata": {
        "id": "view-in-github",
        "colab_type": "text"
      },
      "source": [
        "<a href=\"https://colab.research.google.com/github/PROONGIT/Algo_Distribues_Paralleles/blob/main/Algo_Jeton_circulant.ipynb\" target=\"_parent\"><img src=\"https://colab.research.google.com/assets/colab-badge.svg\" alt=\"Open In Colab\"/></a>"
      ]
    },
    {
      "cell_type": "code",
      "execution_count": 1,
      "metadata": {
        "colab": {
          "base_uri": "https://localhost:8080/",
          "height": 1000
        },
        "id": "51gXnXMN-7sX",
        "outputId": "23eba2fb-4f8d-40fb-e9e4-a535df116799"
      },
      "outputs": [
        {
          "output_type": "stream",
          "name": "stdout",
          "text": [
            "Nœud 0 a le jeton et effectue son action.\n",
            "Nœud 0 a le jeton et effectue son action.\n",
            "Nœud 1 a le jeton et effectue son action.\n",
            "Nœud 1 a le jeton et effectue son action.\n",
            "Nœud 2 a le jeton et effectue son action.\n",
            "Nœud 2 a le jeton et effectue son action.\n",
            "Nœud 3 a le jeton et effectue son action.\n",
            "Nœud 3 a le jeton et effectue son action.\n",
            "Nœud 4 a le jeton et effectue son action.\n",
            "Nœud 4 a le jeton et effectue son action.\n",
            "Nœud 0 a le jeton et effectue son action.\n",
            "Nœud 0 a le jeton et effectue son action.\n",
            "Nœud 1 a le jeton et effectue son action.Nœud 1 a le jeton et effectue son action.\n",
            "\n",
            "Nœud 2 a le jeton et effectue son action.\n",
            "Nœud 2 a le jeton et effectue son action.\n",
            "Nœud 3 a le jeton et effectue son action.\n",
            "Nœud 3 a le jeton et effectue son action.\n",
            "Nœud 4 a le jeton et effectue son action.Nœud 4 a le jeton et effectue son action.\n",
            "\n",
            "Nœud 0 a le jeton et effectue son action.\n",
            "Nœud 0 a le jeton et effectue son action.\n",
            "Nœud 1 a le jeton et effectue son action.\n",
            "Nœud 1 a le jeton et effectue son action.\n",
            "Nœud 2 a le jeton et effectue son action.\n",
            "Nœud 2 a le jeton et effectue son action.\n",
            "Nœud 3 a le jeton et effectue son action.\n",
            "Nœud 3 a le jeton et effectue son action.\n",
            "Nœud 4 a le jeton et effectue son action.\n",
            "Nœud 4 a le jeton et effectue son action.\n",
            "Nœud 0 a le jeton et effectue son action.Nœud 0 a le jeton et effectue son action.\n",
            "\n",
            "Nœud 1 a le jeton et effectue son action.\n",
            "Nœud 1 a le jeton et effectue son action.\n",
            "Nœud 2 a le jeton et effectue son action.Nœud 2 a le jeton et effectue son action.\n",
            "\n",
            "Nœud 3 a le jeton et effectue son action.\n",
            "Nœud 3 a le jeton et effectue son action.\n",
            "Nœud 4 a le jeton et effectue son action.\n",
            "Nœud 4 a le jeton et effectue son action.\n",
            "Nœud 0 a le jeton et effectue son action.\n",
            "Nœud 0 a le jeton et effectue son action.\n",
            "Nœud 1 a le jeton et effectue son action.\n",
            "Nœud 1 a le jeton et effectue son action.\n",
            "Nœud 2 a le jeton et effectue son action.\n",
            "Nœud 2 a le jeton et effectue son action.\n",
            "Nœud 3 a le jeton et effectue son action.\n",
            "Nœud 3 a le jeton et effectue son action.\n",
            "Nœud 4 a le jeton et effectue son action.\n",
            "Nœud 4 a le jeton et effectue son action.\n",
            "Nœud 0 a le jeton et effectue son action.\n",
            "Nœud 0 a le jeton et effectue son action.\n"
          ]
        },
        {
          "output_type": "error",
          "ename": "KeyboardInterrupt",
          "evalue": "",
          "traceback": [
            "\u001b[0;31m---------------------------------------------------------------------------\u001b[0m",
            "\u001b[0;31mKeyboardInterrupt\u001b[0m                         Traceback (most recent call last)",
            "\u001b[0;32m<ipython-input-1-4e0c6a3c5204>\u001b[0m in \u001b[0;36m<cell line: 0>\u001b[0;34m()\u001b[0m\n\u001b[1;32m     56\u001b[0m \u001b[0;34m\u001b[0m\u001b[0m\n\u001b[1;32m     57\u001b[0m \u001b[0;31m# Lancer la fonction qui fait circuler le jeton entre les nœuds\u001b[0m\u001b[0;34m\u001b[0m\u001b[0;34m\u001b[0m\u001b[0m\n\u001b[0;32m---> 58\u001b[0;31m \u001b[0mcirculate_token\u001b[0m\u001b[0;34m(\u001b[0m\u001b[0mnodes\u001b[0m\u001b[0;34m)\u001b[0m\u001b[0;34m\u001b[0m\u001b[0;34m\u001b[0m\u001b[0m\n\u001b[0m",
            "\u001b[0;32m<ipython-input-1-4e0c6a3c5204>\u001b[0m in \u001b[0;36mcirculate_token\u001b[0;34m(nodes)\u001b[0m\n\u001b[1;32m     42\u001b[0m             \u001b[0;31m# Simuler le passage du jeton en appelant la méthode 'process' du nœud\u001b[0m\u001b[0;34m\u001b[0m\u001b[0;34m\u001b[0m\u001b[0m\n\u001b[1;32m     43\u001b[0m             \u001b[0mnodes\u001b[0m\u001b[0;34m[\u001b[0m\u001b[0mi\u001b[0m\u001b[0;34m]\u001b[0m\u001b[0;34m.\u001b[0m\u001b[0mprocess\u001b[0m\u001b[0;34m(\u001b[0m\u001b[0;34m)\u001b[0m\u001b[0;34m\u001b[0m\u001b[0;34m\u001b[0m\u001b[0m\n\u001b[0;32m---> 44\u001b[0;31m             \u001b[0mtime\u001b[0m\u001b[0;34m.\u001b[0m\u001b[0msleep\u001b[0m\u001b[0;34m(\u001b[0m\u001b[0;36m2\u001b[0m\u001b[0;34m)\u001b[0m  \u001b[0;31m# Temps d'attente avant de circuler à nouveau\u001b[0m\u001b[0;34m\u001b[0m\u001b[0;34m\u001b[0m\u001b[0m\n\u001b[0m\u001b[1;32m     45\u001b[0m \u001b[0;34m\u001b[0m\u001b[0m\n\u001b[1;32m     46\u001b[0m \u001b[0;31m# Nombre total de nœuds dans le réseau\u001b[0m\u001b[0;34m\u001b[0m\u001b[0;34m\u001b[0m\u001b[0m\n",
            "\u001b[0;31mKeyboardInterrupt\u001b[0m: "
          ]
        }
      ],
      "source": [
        "import time\n",
        "import threading\n",
        "\n",
        "# Classe représentant un nœud dans le réseau\n",
        "class Node:\n",
        "    def __init__(self, id, total_nodes):\n",
        "        self.id = id  # Identifiant du nœud\n",
        "        self.total_nodes = total_nodes  # Nombre total de nœuds\n",
        "        self.token = False  # Indicateur pour savoir si le nœud a le jeton\n",
        "\n",
        "    def get_token(self):\n",
        "        \"\"\"Méthode pour récupérer le jeton\"\"\"\n",
        "        self.token = True\n",
        "\n",
        "    def pass_token(self):\n",
        "        \"\"\"Méthode pour passer le jeton au prochain nœud\"\"\"\n",
        "        self.token = False\n",
        "\n",
        "    def process(self):\n",
        "        \"\"\"Méthode pour exécuter l'action du nœud\"\"\"\n",
        "        if self.token:\n",
        "            print(f\"Nœud {self.id} a le jeton et effectue son action.\")\n",
        "            time.sleep(1)  # Simulation de l'action réalisée par le nœud\n",
        "            self.pass_token()  # Passe le jeton au prochain nœud\n",
        "\n",
        "    def run(self):\n",
        "        \"\"\"Méthode qui boucle sur l'action du nœud jusqu'à ce qu'il ait le jeton\"\"\"\n",
        "        while True:\n",
        "            self.process()\n",
        "            time.sleep(1)  # Temps de pause avant de vérifier si un autre nœud a le jeton\n",
        "\n",
        "# Fonction pour simuler le passage du jeton entre les nœuds\n",
        "def circulate_token(nodes):\n",
        "    while True:\n",
        "        for i in range(len(nodes)):\n",
        "            if i == 0:  # Le premier nœud obtient initialement le jeton\n",
        "                nodes[i].get_token()\n",
        "            else:  # Le jeton passe au prochain nœud\n",
        "                nodes[i].get_token()\n",
        "                nodes[i-1].pass_token()\n",
        "\n",
        "            # Simuler le passage du jeton en appelant la méthode 'process' du nœud\n",
        "            nodes[i].process()\n",
        "            time.sleep(2)  # Temps d'attente avant de circuler à nouveau\n",
        "\n",
        "# Nombre total de nœuds dans le réseau\n",
        "total_nodes = 5\n",
        "nodes = [Node(i, total_nodes) for i in range(total_nodes)]\n",
        "\n",
        "# Créer et démarrer les threads pour chaque nœud\n",
        "threads = []\n",
        "for node in nodes:\n",
        "    thread = threading.Thread(target=node.run)\n",
        "    threads.append(thread)\n",
        "    thread.start()\n",
        "\n",
        "# Lancer la fonction qui fait circuler le jeton entre les nœuds\n",
        "circulate_token(nodes)\n"
      ]
    }
  ]
}